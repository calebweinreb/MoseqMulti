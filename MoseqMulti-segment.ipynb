{
 "cells": [
  {
   "cell_type": "markdown",
   "metadata": {},
   "source": [
    "# Segment\n",
    "\n",
    "Segment mouse pixels from background pixels"
   ]
  },
  {
   "cell_type": "code",
   "execution_count": 1,
   "metadata": {},
   "outputs": [],
   "source": [
    "PARAMS = {\n",
    "    'session_name':'two_mice_v2',\n",
    "    'background_session_name':'background',\n",
    "    'copy_background_from_other_directory': '',\n",
    "    'recompute_background':False,\n",
    "    'working_directory':'../19_1_30_moving_on_with_compressed_pipeline/MoseqMulti/long_pairs',\n",
    "    'multiprocessing':False,\n",
    "    'n_background_frames':100,\n",
    "    'background_update_rate': 0.2,\n",
    "    'batch_size':100,\n",
    "    'min_depth_difference': 10,\n",
    "    'max_depth_difference': 500,\n",
    "    'min_color_component_size': 500,\n",
    "    'max_color_component_brightness': 100,\n",
    "    'max_color_component_aspect_ratio': 10,\n",
    "    'max_color_component_island_size': 500,\n",
    "    'skip_first_frames':100\n",
    "}"
   ]
  },
  {
   "cell_type": "code",
   "execution_count": 2,
   "metadata": {},
   "outputs": [],
   "source": [
    "import shutil, json, os, sys, time, pickle, h5py, cv2, numpy as np, matplotlib.pyplot as plt, h5py\n",
    "from MoseqMulti_segment import *\n",
    "from MoseqMulti_utils import *\n",
    "%matplotlib inline"
   ]
  },
  {
   "cell_type": "markdown",
   "metadata": {},
   "source": [
    "### Get initial background images"
   ]
  },
  {
   "cell_type": "code",
   "execution_count": 3,
   "metadata": {},
   "outputs": [
    {
     "name": "stdout",
     "output_type": "stream",
     "text": [
      "Loading background from ../19_1_30_moving_on_with_compressed_pipeline/MoseqMulti/long_pairs\n"
     ]
    }
   ],
   "source": [
    "if len(PARAMS['copy_background_from_other_directory']) > 0:\n",
    "    print('Copying background from '+ PARAMS['copy_background_from_other_directory'])\n",
    "    os.system('cp '+PARAMS['copy_background_from_other_directory']+'/background.p '+PARAMS['working_directory']+'/') \n",
    "\n",
    "elif (not PARAMS['recompute_background']) and os.path.exists(PARAMS['working_directory']+'/background.p'):\n",
    "    print('Loading background from '+PARAMS['working_directory'])\n",
    "    color_background, depth_background = pickle.load(open(PARAMS['working_directory']+'/background.p','rb'))  \n",
    "else:\n",
    "    print('Calculating background')\n",
    "    color_background, depth_background = get_background(PARAMS)\n",
    "    pickle.dump((color_background, depth_background), open(PARAMS['working_directory']+'/background.p','wb'))"
   ]
  },
  {
   "cell_type": "markdown",
   "metadata": {},
   "source": [
    "### For each camera, do adaptive color and depth. Use color for adaptive masking"
   ]
  },
  {
   "cell_type": "code",
   "execution_count": 4,
   "metadata": {},
   "outputs": [
    {
     "name": "stdout",
     "output_type": "stream",
     "text": [
      "Segmenting camera 816312062021\n",
      "...on frame 0 out of 35953\n",
      "...on frame 100 out of 35953\n",
      "...on frame 200 out of 35953\n"
     ]
    },
    {
     "ename": "TypeError",
     "evalue": "src data type = 0 is not supported",
     "output_type": "error",
     "traceback": [
      "\u001b[0;31m---------------------------------------------------------------------------\u001b[0m",
      "\u001b[0;31mTypeError\u001b[0m                                 Traceback (most recent call last)",
      "\u001b[0;32m<ipython-input-4-749e7f70e2fa>\u001b[0m in \u001b[0;36m<module>\u001b[0;34m\u001b[0m\n\u001b[0;32m----> 1\u001b[0;31m \u001b[0msegment\u001b[0m\u001b[0;34m(\u001b[0m\u001b[0mPARAMS\u001b[0m\u001b[0;34m,\u001b[0m\u001b[0mcolor_background\u001b[0m\u001b[0;34m,\u001b[0m\u001b[0mdepth_background\u001b[0m\u001b[0;34m)\u001b[0m\u001b[0;34m\u001b[0m\u001b[0m\n\u001b[0m",
      "\u001b[0;32m~/Caleb Dropbox/caleb weinreb/MOUSE_SURVEILANCE/REALSENSE/19_2_2_prep_for_mask_RCNN/MoseqMulti_segment.py\u001b[0m in \u001b[0;36msegment\u001b[0;34m(PARAMS, color_background, depth_background)\u001b[0m\n\u001b[1;32m     13\u001b[0m         \u001b[0mmp\u001b[0m\u001b[0;34m.\u001b[0m\u001b[0mPool\u001b[0m\u001b[0;34m(\u001b[0m\u001b[0;34m)\u001b[0m\u001b[0;34m.\u001b[0m\u001b[0mmap\u001b[0m\u001b[0;34m(\u001b[0m\u001b[0msegment_one_camera_mappable\u001b[0m\u001b[0;34m,\u001b[0m \u001b[0mserial_numbers\u001b[0m\u001b[0;34m)\u001b[0m\u001b[0;34m\u001b[0m\u001b[0m\n\u001b[1;32m     14\u001b[0m     \u001b[0;32melse\u001b[0m\u001b[0;34m:\u001b[0m\u001b[0;34m\u001b[0m\u001b[0m\n\u001b[0;32m---> 15\u001b[0;31m         \u001b[0;32mfor\u001b[0m \u001b[0msn\u001b[0m \u001b[0;32min\u001b[0m \u001b[0mserial_numbers\u001b[0m\u001b[0;34m:\u001b[0m \u001b[0msegment_one_camera_mappable\u001b[0m\u001b[0;34m(\u001b[0m\u001b[0msn\u001b[0m\u001b[0;34m)\u001b[0m\u001b[0;34m\u001b[0m\u001b[0m\n\u001b[0m\u001b[1;32m     16\u001b[0m \u001b[0;34m\u001b[0m\u001b[0m\n\u001b[1;32m     17\u001b[0m \u001b[0;34m\u001b[0m\u001b[0m\n",
      "\u001b[0;32m~/Caleb Dropbox/caleb weinreb/MOUSE_SURVEILANCE/REALSENSE/19_2_2_prep_for_mask_RCNN/MoseqMulti_segment.py\u001b[0m in \u001b[0;36msegment_one_camera\u001b[0;34m(sn, PARAMS, color_background, depth_background)\u001b[0m\n\u001b[1;32m     36\u001b[0m             \u001b[0mcolor_mask\u001b[0m\u001b[0;34m.\u001b[0m\u001b[0mappend\u001b[0m\u001b[0;34m(\u001b[0m\u001b[0mclean_color_seg\u001b[0m\u001b[0;34m(\u001b[0m\u001b[0mcolor_seg\u001b[0m\u001b[0;34m(\u001b[0m\u001b[0mXcolor\u001b[0m\u001b[0;34m,\u001b[0m\u001b[0mcolor_bg\u001b[0m\u001b[0;34m)\u001b[0m\u001b[0;34m,\u001b[0m \u001b[0mXcolor\u001b[0m\u001b[0;34m,\u001b[0m \u001b[0mPARAMS\u001b[0m\u001b[0;34m)\u001b[0m\u001b[0;34m)\u001b[0m\u001b[0;34m\u001b[0m\u001b[0m\n\u001b[1;32m     37\u001b[0m             \u001b[0mdepth_mask\u001b[0m\u001b[0;34m.\u001b[0m\u001b[0mappend\u001b[0m\u001b[0;34m(\u001b[0m\u001b[0mnp\u001b[0m\u001b[0;34m.\u001b[0m\u001b[0mall\u001b[0m\u001b[0;34m(\u001b[0m\u001b[0;34m[\u001b[0m\u001b[0mcolor_mask\u001b[0m\u001b[0;34m[\u001b[0m\u001b[0;34m-\u001b[0m\u001b[0;36m1\u001b[0m\u001b[0;34m]\u001b[0m\u001b[0;34m,\u001b[0m\u001b[0mdepth_seg\u001b[0m\u001b[0;34m(\u001b[0m\u001b[0mXdepth\u001b[0m\u001b[0;34m,\u001b[0m\u001b[0mdepth_bg\u001b[0m\u001b[0;34m,\u001b[0m \u001b[0mPARAMS\u001b[0m\u001b[0;34m)\u001b[0m\u001b[0;34m]\u001b[0m\u001b[0;34m,\u001b[0m\u001b[0maxis\u001b[0m\u001b[0;34m=\u001b[0m\u001b[0;36m0\u001b[0m\u001b[0;34m)\u001b[0m\u001b[0;34m)\u001b[0m\u001b[0;34m\u001b[0m\u001b[0m\n\u001b[0;32m---> 38\u001b[0;31m             \u001b[0;32mif\u001b[0m \u001b[0mi\u001b[0m \u001b[0;34m>\u001b[0m \u001b[0mPARAMS\u001b[0m\u001b[0;34m[\u001b[0m\u001b[0;34m'skip_first_frames'\u001b[0m\u001b[0;34m]\u001b[0m\u001b[0;34m:\u001b[0m \u001b[0mcolor_bg\u001b[0m\u001b[0;34m,\u001b[0m \u001b[0mdepth_bg\u001b[0m \u001b[0;34m=\u001b[0m \u001b[0mupdate_background\u001b[0m\u001b[0;34m(\u001b[0m\u001b[0mcolor_bg\u001b[0m\u001b[0;34m,\u001b[0m \u001b[0mdepth_bg\u001b[0m\u001b[0;34m,\u001b[0m \u001b[0mXcolor\u001b[0m\u001b[0;34m,\u001b[0m \u001b[0mXdepth\u001b[0m\u001b[0;34m,\u001b[0m \u001b[0mcolor_mask\u001b[0m\u001b[0;34m[\u001b[0m\u001b[0;34m-\u001b[0m\u001b[0;36m1\u001b[0m\u001b[0;34m]\u001b[0m\u001b[0;34m,\u001b[0m \u001b[0mPARAMS\u001b[0m\u001b[0;34m[\u001b[0m\u001b[0;34m'background_update_rate'\u001b[0m\u001b[0;34m]\u001b[0m\u001b[0;34m)\u001b[0m\u001b[0;34m\u001b[0m\u001b[0m\n\u001b[0m\u001b[1;32m     39\u001b[0m         \u001b[0mnp\u001b[0m\u001b[0;34m.\u001b[0m\u001b[0msave\u001b[0m\u001b[0;34m(\u001b[0m\u001b[0;34m'chunk_'\u001b[0m\u001b[0;34m+\u001b[0m\u001b[0mrepr\u001b[0m\u001b[0;34m(\u001b[0m\u001b[0mi\u001b[0m\u001b[0;34m)\u001b[0m\u001b[0;34m+\u001b[0m\u001b[0;34m'.npy'\u001b[0m\u001b[0;34m,\u001b[0m\u001b[0mnp\u001b[0m\u001b[0;34m.\u001b[0m\u001b[0marray\u001b[0m\u001b[0;34m(\u001b[0m\u001b[0mdepth_mask\u001b[0m\u001b[0;34m)\u001b[0m \u001b[0;34m)\u001b[0m\u001b[0;34m\u001b[0m\u001b[0m\n\u001b[1;32m     40\u001b[0m \u001b[0;34m\u001b[0m\u001b[0m\n",
      "\u001b[0;32m~/Caleb Dropbox/caleb weinreb/MOUSE_SURVEILANCE/REALSENSE/19_2_2_prep_for_mask_RCNN/MoseqMulti_segment.py\u001b[0m in \u001b[0;36mupdate_background\u001b[0;34m(color_bg, depth_bg, Xcolor, Xdepth, color_mask, rate)\u001b[0m\n\u001b[1;32m    101\u001b[0m \u001b[0;34m\u001b[0m\u001b[0m\n\u001b[1;32m    102\u001b[0m \u001b[0;32mdef\u001b[0m \u001b[0mupdate_background\u001b[0m\u001b[0;34m(\u001b[0m\u001b[0mcolor_bg\u001b[0m\u001b[0;34m,\u001b[0m \u001b[0mdepth_bg\u001b[0m\u001b[0;34m,\u001b[0m \u001b[0mXcolor\u001b[0m\u001b[0;34m,\u001b[0m \u001b[0mXdepth\u001b[0m\u001b[0;34m,\u001b[0m \u001b[0mcolor_mask\u001b[0m\u001b[0;34m,\u001b[0m \u001b[0mrate\u001b[0m\u001b[0;34m)\u001b[0m\u001b[0;34m:\u001b[0m\u001b[0;34m\u001b[0m\u001b[0m\n\u001b[0;32m--> 103\u001b[0;31m     \u001b[0mbg_mask\u001b[0m \u001b[0;34m=\u001b[0m \u001b[0;34m(\u001b[0m\u001b[0mcv2\u001b[0m\u001b[0;34m.\u001b[0m\u001b[0mGaussianBlur\u001b[0m\u001b[0;34m(\u001b[0m\u001b[0mcolor_mask\u001b[0m\u001b[0;34m,\u001b[0m\u001b[0;34m(\u001b[0m\u001b[0;36m71\u001b[0m\u001b[0;34m,\u001b[0m\u001b[0;36m71\u001b[0m\u001b[0;34m)\u001b[0m\u001b[0;34m,\u001b[0m\u001b[0;36m0\u001b[0m\u001b[0;34m)\u001b[0m \u001b[0;34m>\u001b[0m \u001b[0;36m.02\u001b[0m\u001b[0;34m)\u001b[0m\u001b[0;34m\u001b[0m\u001b[0m\n\u001b[0m\u001b[1;32m    104\u001b[0m     \u001b[0mcolor_bg\u001b[0m \u001b[0;34m=\u001b[0m \u001b[0mcolor_bg\u001b[0m\u001b[0;34m*\u001b[0m\u001b[0mbg_mask\u001b[0m\u001b[0;34m[\u001b[0m\u001b[0;34m:\u001b[0m\u001b[0;34m,\u001b[0m\u001b[0;34m:\u001b[0m\u001b[0;34m,\u001b[0m\u001b[0;32mNone\u001b[0m\u001b[0;34m]\u001b[0m\u001b[0;34m*\u001b[0m\u001b[0;36m.1\u001b[0m \u001b[0;34m+\u001b[0m \u001b[0mXcolor\u001b[0m\u001b[0;34m*\u001b[0m\u001b[0;34m(\u001b[0m\u001b[0mbg_mask\u001b[0m\u001b[0;34m==\u001b[0m\u001b[0;36m0\u001b[0m\u001b[0;34m)\u001b[0m\u001b[0;34m[\u001b[0m\u001b[0;34m:\u001b[0m\u001b[0;34m,\u001b[0m\u001b[0;34m:\u001b[0m\u001b[0;34m,\u001b[0m\u001b[0;32mNone\u001b[0m\u001b[0;34m]\u001b[0m\u001b[0;34m*\u001b[0m\u001b[0;36m.1\u001b[0m \u001b[0;34m+\u001b[0m \u001b[0mcolor_bg\u001b[0m\u001b[0;34m*\u001b[0m\u001b[0;36m.9\u001b[0m\u001b[0;34m\u001b[0m\u001b[0m\n\u001b[1;32m    105\u001b[0m \u001b[0;34m\u001b[0m\u001b[0m\n",
      "\u001b[0;31mTypeError\u001b[0m: src data type = 0 is not supported"
     ]
    }
   ],
   "source": [
    "segment(PARAMS,color_background,depth_background)"
   ]
  },
  {
   "cell_type": "code",
   "execution_count": null,
   "metadata": {},
   "outputs": [],
   "source": []
  }
 ],
 "metadata": {
  "kernelspec": {
   "display_name": "Python (megaman)",
   "language": "python",
   "name": "megaman"
  },
  "language_info": {
   "codemirror_mode": {
    "name": "ipython",
    "version": 3
   },
   "file_extension": ".py",
   "mimetype": "text/x-python",
   "name": "python",
   "nbconvert_exporter": "python",
   "pygments_lexer": "ipython3",
   "version": "3.5.5"
  }
 },
 "nbformat": 4,
 "nbformat_minor": 2
}
