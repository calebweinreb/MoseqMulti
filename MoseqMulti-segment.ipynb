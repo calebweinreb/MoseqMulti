{
 "cells": [
  {
   "cell_type": "markdown",
   "metadata": {},
   "source": [
    "# Segment\n",
    "\n",
    "Segment mouse pixels from background pixels"
   ]
  },
  {
   "cell_type": "code",
   "execution_count": 31,
   "metadata": {},
   "outputs": [],
   "source": [
    "PARAMS = {\n",
    "    'session_name':'two_mice_v2',\n",
    "    'background_session_name':'background',\n",
    "    'copy_background_from_other_directory': '',\n",
    "    'recompute_background':False,\n",
    "    'working_directory':'long_pairs',\n",
    "    'multiprocessing':False,\n",
    "    'n_background_frames':100,\n",
    "    'background_update_rate': 0.2,\n",
    "    'batch_size':100,\n",
    "    'min_depth_difference': 10,\n",
    "    'max_depth_difference': 500,\n",
    "    'min_color_component_size': 500,\n",
    "    'max_color_component_brightness': 100,\n",
    "    'max_color_component_aspect_ratio': 10,\n",
    "    'max_color_component_island_size': 500,\n",
    "    'skip_first_frames':100\n",
    "}"
   ]
  },
  {
   "cell_type": "code",
   "execution_count": 4,
   "metadata": {},
   "outputs": [],
   "source": [
    "import shutil, json, os, sys, time, pickle, h5py, cv2, numpy as np, matplotlib.pyplot as plt, h5py\n",
    "from MoseqMulti_segment import *\n",
    "from MoseqMulti_utils import *\n",
    "%matplotlib inline"
   ]
  },
  {
   "cell_type": "markdown",
   "metadata": {},
   "source": [
    "### Get initial background images"
   ]
  },
  {
   "cell_type": "code",
   "execution_count": 5,
   "metadata": {},
   "outputs": [
    {
     "name": "stdout",
     "output_type": "stream",
     "text": [
      "Loading background from long_pairs\n"
     ]
    }
   ],
   "source": [
    "if len(PARAMS['copy_background_from_other_directory']) > 0:\n",
    "    print('Copying background from '+ PARAMS['copy_background_from_other_directory'])\n",
    "    os.system('cp '+PARAMS['copy_background_from_other_directory']+'/background.p '+PARAMS['working_directory']+'/') \n",
    "\n",
    "elif (not PARAMS['recompute_background']) and os.path.exists(PARAMS['working_directory']+'/background.p'):\n",
    "    print('Loading background from '+PARAMS['working_directory'])\n",
    "    color_background, depth_background = pickle.load(open(PARAMS['working_directory']+'/background.p','rb'))  \n",
    "else:\n",
    "    print('Calculating background')\n",
    "    color_background, depth_background = get_background(PARAMS)\n",
    "    pickle.dump((color_background, depth_background), open(PARAMS['working_directory']+'/background.p','wb'))"
   ]
  },
  {
   "cell_type": "markdown",
   "metadata": {},
   "source": [
    "### For each camera, do adaptive color and depth. Use color for adaptive masking"
   ]
  },
  {
   "cell_type": "code",
   "execution_count": null,
   "metadata": {},
   "outputs": [
    {
     "name": "stdout",
     "output_type": "stream",
     "text": [
      "Segmenting camera 816312062021\n",
      "...on frame 0 out of 200\n",
      "long_pairs/data/two_mice_v2_816312062021_color_mask.avi\n",
      "...on frame 100 out of 200\n",
      "long_pairs/data/two_mice_v2_816312062021_color_mask.avi\n",
      "Segmenting camera 816312062005\n",
      "...on frame 0 out of 200\n",
      "long_pairs/data/two_mice_v2_816312062005_color_mask.avi\n",
      "...on frame 100 out of 200\n",
      "long_pairs/data/two_mice_v2_816312062005_color_mask.avi\n",
      "Segmenting camera 739112061202\n",
      "...on frame 0 out of 200\n"
     ]
    }
   ],
   "source": [
    "segment(PARAMS)"
   ]
  }
 ],
 "metadata": {
  "kernelspec": {
   "display_name": "Python (megaman)",
   "language": "python",
   "name": "megaman"
  },
  "language_info": {
   "codemirror_mode": {
    "name": "ipython",
    "version": 3
   },
   "file_extension": ".py",
   "mimetype": "text/x-python",
   "name": "python",
   "nbconvert_exporter": "python",
   "pygments_lexer": "ipython3",
   "version": "3.5.5"
  }
 },
 "nbformat": 4,
 "nbformat_minor": 2
}
