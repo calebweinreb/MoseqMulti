{
 "cells": [
  {
   "cell_type": "markdown",
   "metadata": {},
   "source": [
    "# Acquisition"
   ]
  },
  {
   "cell_type": "code",
   "execution_count": 1,
   "metadata": {},
   "outputs": [],
   "source": [
    "PARAMS = {\n",
    "    'session_name':'test2',\n",
    "    'working_directory':'synctest',\n",
    "    'recording_length':1200,\n",
    "    'frame_width':640,\n",
    "    'frame_height':480,\n",
    "    'fps': 30,\n",
    "}"
   ]
  },
  {
   "cell_type": "code",
   "execution_count": 2,
   "metadata": {},
   "outputs": [],
   "source": [
    "import shutil, json, os, sys, time, pickle, h5py, cv2, matplotlib.pyplot as plt, numpy as np\n",
    "sys.path.append('/usr/local/lib/')\n",
    "import pyrealsense2 as rs\n",
    "from MoseqMulti_acquire import *"
   ]
  },
  {
   "cell_type": "markdown",
   "metadata": {},
   "source": [
    "### Create data directory"
   ]
  },
  {
   "cell_type": "code",
   "execution_count": 3,
   "metadata": {},
   "outputs": [],
   "source": [
    "if not os.path.exists(PARAMS['working_directory']): os.makedirs(PARAMS['working_directory'])\n",
    "if not os.path.exists(PARAMS['working_directory']+'/data/'): os.makedirs(PARAMS['working_directory']+'/data/')"
   ]
  },
  {
   "cell_type": "markdown",
   "metadata": {},
   "source": [
    "### List currently plugged in devices"
   ]
  },
  {
   "cell_type": "code",
   "execution_count": 5,
   "metadata": {},
   "outputs": [
    {
     "name": "stdout",
     "output_type": "stream",
     "text": [
      "Found device  <pyrealsense2.device: Intel RealSense D415 (S/N: 816312062021)>\n",
      "Found device  <pyrealsense2.device: Intel RealSense D415 (S/N: 816312062005)>\n",
      "Found device  <pyrealsense2.device: Intel RealSense D415 (S/N: 739112061202)>\n",
      "Found device  <pyrealsense2.device: Intel RealSense D415 (S/N: 739112060301)>\n",
      "Found device  <pyrealsense2.device: Intel RealSense D415 (S/N: 816312061973)>\n"
     ]
    }
   ],
   "source": [
    "serial_numbers = get_connected_devices()"
   ]
  },
  {
   "cell_type": "markdown",
   "metadata": {},
   "source": [
    "### Create a pipeline for each plugged in camera"
   ]
  },
  {
   "cell_type": "code",
   "execution_count": 6,
   "metadata": {},
   "outputs": [],
   "source": [
    "pipelines, configs = get_pipelines(serial_numbers, PARAMS)"
   ]
  },
  {
   "cell_type": "markdown",
   "metadata": {},
   "source": [
    "### Actually do the recording (saved to bag files)"
   ]
  },
  {
   "cell_type": "code",
   "execution_count": 7,
   "metadata": {
    "scrolled": true
   },
   "outputs": [
    {
     "name": "stdout",
     "output_type": "stream",
     "text": [
      "Started recording\n",
      "Recorded 1200 / 1200 seconds\n",
      "Finished recording 35889 frames in 1200.0096361637115 seconds\n"
     ]
    }
   ],
   "source": [
    "profiles = start_pipes(pipelines,configs,serial_numbers) \n",
    "intrinsics = get_intrinsics(pipelines)\n",
    "\n",
    "# actually do the recording\n",
    "if len(serial_numbers)==0:\n",
    "    print('No cameras connected')\n",
    "else:\n",
    "    try:        \n",
    "        print('Started recording')\n",
    "        total_frames = 0\n",
    "        timestamps = {n:[] for n in serial_numbers}\n",
    "        start_time = time.time()\n",
    "        while time.time()-start_time < PARAMS['recording_length']:\n",
    "            if ((total_frames) % int(1000/30) == 0): \n",
    "                print('\\rRecorded',int(time.time()-start_time+1),'/', PARAMS['recording_length'], 'seconds', end='')\n",
    "            for n in pipelines: \n",
    "                frames = pipelines[n].wait_for_frames()\n",
    "                if total_frames < 100: timestamps[n].append(rs.frame.get_timestamp(frames))\n",
    "            total_frames += 1\n",
    "\n",
    "    # stop recording and save metadata\n",
    "    finally: \n",
    "        stop_time = time.time()\n",
    "        stop_pipes(pipelines)\n",
    "        metadata = get_metadata(serial_numbers,start_time,stop_time,total_frames, intrinsics, timestamps, PARAMS)\n",
    "        json.dump(metadata, open(PARAMS['working_directory']+'/data/'+PARAMS['session_name']+'_metadata.json','w'))\n",
    "        print('\\nFinished recording '+repr(total_frames)+' frames in '+repr(stop_time-start_time)+' seconds')"
   ]
  },
  {
   "cell_type": "code",
   "execution_count": 8,
   "metadata": {},
   "outputs": [],
   "source": [
    "# need to delete these or else the .bag file won't properly close\n",
    "del pipelines\n",
    "del configs\n",
    "del profiles"
   ]
  },
  {
   "cell_type": "code",
   "execution_count": null,
   "metadata": {},
   "outputs": [],
   "source": []
  }
 ],
 "metadata": {
  "kernelspec": {
   "display_name": "Python 3",
   "language": "python",
   "name": "python3"
  },
  "language_info": {
   "codemirror_mode": {
    "name": "ipython",
    "version": 3
   },
   "file_extension": ".py",
   "mimetype": "text/x-python",
   "name": "python",
   "nbconvert_exporter": "python",
   "pygments_lexer": "ipython3",
   "version": "3.5.5"
  }
 },
 "nbformat": 4,
 "nbformat_minor": 2
}
